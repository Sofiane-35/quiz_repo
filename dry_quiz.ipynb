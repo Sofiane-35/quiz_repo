{
 "cells": [
  {
   "cell_type": "code",
   "execution_count": 1,
   "metadata": {},
   "outputs": [
    {
     "name": "stdout",
     "output_type": "stream",
     "text": [
      "\n",
      "\n",
      "\n",
      "Welcome young padawan to the Galaxy\n"
     ]
    }
   ],
   "source": [
    "# Building a Quiz\n",
    "\n",
    "def ask_question(nb_attempts_left, question_sentence, right_answer):\n",
    "    if nb_attempts_left > 0:\n",
    "        answer = input(question_sentence)\n",
    "        answer = answer.lower()\n",
    "        while answer != right_answer:\n",
    "            nb_attempts_left -=1\n",
    "            print(\"Sorry, you have {} chances left\".format(nb_attempts_left))\n",
    "            if nb_attempts_left == 0:\n",
    "                print(\"Oh no, you lost the quiz...\")\n",
    "                break\n",
    "            answer = input(question_sentence)\n",
    "            answer = answer.lower()\n",
    "    print('')\n",
    "    return nb_attempts_left\n",
    "\n",
    "nb_attempts = 3\n",
    "\n",
    "question_answer_list = [\n",
    "    (\"What type of crystal powers lightsabers\", \"kyber crystal\"),\n",
    "    (\"What is Yoda's planet of origin?\", \"dagobah\"),\n",
    "    (\"What is the main model of fighter used by the Empire in the Star Wars trilogy?\", \"tie fighter\")\n",
    "]\n",
    "\n",
    "for question, answer in question_answer_list : \n",
    "    nb_attempts = ask_question(nb_attempts, question, answer)\n",
    "    \n",
    "if nb_attempts > 0:\n",
    "    print(\"Welcome young padawan to the Galaxy\")  "
   ]
  }
 ],
 "metadata": {
  "kernelspec": {
   "display_name": "Python 3",
   "language": "python",
   "name": "python3"
  },
  "language_info": {
   "codemirror_mode": {
    "name": "ipython",
    "version": 3
   },
   "file_extension": ".py",
   "mimetype": "text/x-python",
   "name": "python",
   "nbconvert_exporter": "python",
   "pygments_lexer": "ipython3",
   "version": "3.12.0"
  }
 },
 "nbformat": 4,
 "nbformat_minor": 2
}
