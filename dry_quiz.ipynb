{
 "cells": [
  {
   "cell_type": "code",
   "execution_count": null,
   "metadata": {},
   "outputs": [],
   "source": [
    "# Building a Quiz\n",
    "\n",
    "def ask_question(nb_attempts_left, question_sentence, right_answer):\n",
    "    if nb_attempts_left > 0:\n",
    "        answer = input(question_sentence)\n",
    "        answer = answer.lower()\n",
    "        while answer != right_answer:\n",
    "            nb_attempts_left -=1\n",
    "            print(\"Sorry, you have {} chances left\".format(nb_attempts_left))\n",
    "            if nb_attempts_left == 0:\n",
    "                print(\"Oh no, you lost the quiz...\")\n",
    "                break\n",
    "            answer = input(question_sentence)\n",
    "            answer = answer.lower()\n",
    "    print('')\n",
    "    return nb_attempts_left\n",
    "\n",
    "nb_attempts = 3\n",
    "\n",
    "question_answer_list = [\n",
    "    (\"What type of crystal powers lightsabers\", \"Kyber crystal\"),\n",
    "    (\"What is Yoda's planet of origin?\", \"Dagobah\"),\n",
    "    (\"What is the main model of fighter used by the Empire in the Star Wars trilogy?\", \"TIE fighter\")\n",
    "]\n",
    "\n",
    "for question, answer in question_answer_list : \n",
    "    nb_attempts = ask_question(nb_attempts, question, answer)\n",
    "    \n",
    "if nb_attempts > 0:\n",
    "    print(\"Welcome young padaone to the Galaxy\")  "
   ]
  }
 ],
 "metadata": {
  "language_info": {
   "name": "python"
  }
 },
 "nbformat": 4,
 "nbformat_minor": 2
}
